{
 "cells": [
  {
   "cell_type": "code",
   "execution_count": 1,
   "id": "6c2d83ea-4621-4ad4-88f2-be33b994c939",
   "metadata": {},
   "outputs": [
    {
     "name": "stdout",
     "output_type": "stream",
     "text": [
      "2.6.0\n",
      "2. Query all tasks\n",
      "(0, 'Tennis Court 1', 5, 25, 10000, 200)\n",
      "(1, 'Tennis Court 2', 5, 25, 8000, 200)\n",
      "(2, 'Badminton Court', 0, 15.5, 4000, 50)\n",
      "(3, 'Table Tennis', 0, 5, 320, 10)\n",
      "(4, 'Massage Room 1', 9.9, 80, 4000, 3000)\n",
      "(5, 'Massage Room 2', 9.9, 80, 4000, 3000)\n",
      "(6, 'Squash Court', 3.5, 17.5, 5000, 80)\n",
      "(7, 'Snooker Table', 0, 5, 450, 15)\n",
      "(8, 'Pool Table', 0, 5, 400, 15)\n"
     ]
    },
    {
     "name": "stderr",
     "output_type": "stream",
     "text": [
      "C:\\Users\\wgerm\\AppData\\Local\\Temp\\ipykernel_24148\\2343499927.py:15: DeprecationWarning: version is deprecated and will be removed in Python 3.14\n",
      "  print(sqlite3.version)\n"
     ]
    }
   ],
   "source": [
    "import sqlite3\n",
    "from sqlite3 import Error\n",
    "# Declare variable conn\n",
    "conn = None\n",
    " \n",
    "def create_connection(db_file):\n",
    "    \"\"\" create a database connection to the SQLite database\n",
    "        specified by the db_file\n",
    "    :param db_file: database file\n",
    "    :return: Connection object or None\n",
    "    \"\"\"\n",
    "    global conn # Declare conn as global to be allow modification inside this function\n",
    "    try:\n",
    "        conn = sqlite3.connect(db_file)\n",
    "        print(sqlite3.version)\n",
    "    except Error as e:\n",
    "        print(e)\n",
    " \n",
    "    return conn\n",
    "\n",
    " \n",
    "def select_all_tasks(conn):\n",
    "    \"\"\"\n",
    "    Query all rows in the tasks table\n",
    "    :param conn: the Connection object\n",
    "    :return:\n",
    "    \"\"\"\n",
    "    cur = conn.cursor()\n",
    "    \n",
    "    query1 = \"\"\"\n",
    "        SELECT *\n",
    "        FROM FACILITIES\n",
    "        \"\"\"\n",
    "    cur.execute(query1)\n",
    " \n",
    "    rows = cur.fetchall()\n",
    " \n",
    "    for row in rows:\n",
    "        print(row)\n",
    "\n",
    "\n",
    "def main():\n",
    "    database = \"sqlite_db_pythonsqlite.db\"\n",
    " \n",
    "    # create a database connection\n",
    "    conn = create_connection(database)\n",
    "    with conn: \n",
    "        print(\"2. Query all tasks\")\n",
    "        select_all_tasks(conn)\n",
    " \n",
    " \n",
    "if __name__ == '__main__':\n",
    "    main()"
   ]
  },
  {
   "cell_type": "markdown",
   "id": "b5b8fcc3-5a9d-4e59-b737-afb7b4902cf8",
   "metadata": {},
   "source": [
    "Question # 10   Produce a list of facilities with a total revenue less than 1000.\r",
    "                \n",
    "The output of facility name and total revenue, sorted by revenue. Remember                \r\n",
    "that there's a different cost for guests and members!"
   ]
  },
  {
   "cell_type": "code",
   "execution_count": 2,
   "id": "6847b7d9-91e2-46c4-b61b-5806c50aa4e9",
   "metadata": {},
   "outputs": [],
   "source": [
    "import pandas as pd"
   ]
  },
  {
   "cell_type": "code",
   "execution_count": 3,
   "id": "647f581f-f7ed-4685-9db7-3d62a222dc66",
   "metadata": {},
   "outputs": [
    {
     "name": "stdout",
     "output_type": "stream",
     "text": [
      "2.6.0\n"
     ]
    },
    {
     "name": "stderr",
     "output_type": "stream",
     "text": [
      "C:\\Users\\wgerm\\AppData\\Local\\Temp\\ipykernel_24148\\2343499927.py:15: DeprecationWarning: version is deprecated and will be removed in Python 3.14\n",
      "  print(sqlite3.version)\n"
     ]
    },
    {
     "data": {
      "text/plain": [
       "<sqlite3.Connection at 0x246e30ffc40>"
      ]
     },
     "execution_count": 3,
     "metadata": {},
     "output_type": "execute_result"
    }
   ],
   "source": [
    "# Establish connection before the query\n",
    "create_connection(\"sqlite_db_pythonsqlite.db\")"
   ]
  },
  {
   "cell_type": "code",
   "execution_count": 4,
   "id": "08ed7262-958f-4eb0-9ae6-4f49d82b168d",
   "metadata": {},
   "outputs": [
    {
     "name": "stdout",
     "output_type": "stream",
     "text": [
      "   facility_name  total_revenue\n",
      "0   Table Tennis            180\n",
      "1  Snooker Table            240\n",
      "2     Pool Table            270\n"
     ]
    }
   ],
   "source": [
    "#Query 1  definition and execution\n",
    "query1 = \"\"\"\n",
    "SELECT \n",
    "    f.name AS facility_name,\n",
    "    SUM(\n",
    "        CASE \n",
    "            WHEN b.memid = 0 THEN b.slots * f.guestcost \n",
    "            ELSE b.slots * f.membercost \n",
    "        END\n",
    "    ) AS total_revenue\n",
    "FROM \n",
    "    Bookings AS b\n",
    "JOIN \n",
    "    Facilities AS f ON b.facid = f.facid\n",
    "GROUP BY \n",
    "    f.name\n",
    "HAVING \n",
    "    total_revenue < 1000\n",
    "ORDER BY \n",
    "    total_revenue;\n",
    "\"\"\"\n",
    "# Execute the query and display results using pandas\n",
    "if conn:  # Ensure the connection exists\n",
    "    df = pd.read_sql_query(query1, conn)\n",
    "    print(df)\n",
    "\n",
    "else:\n",
    "    print(\"Connection not established.\")"
   ]
  },
  {
   "cell_type": "markdown",
   "id": "11a6cc70-c5c6-4fad-b59c-271996dc19d6",
   "metadata": {},
   "source": [
    "Question 11: Produce a report of members and who recommended them in alphabetic surname,firstname order"
   ]
  },
  {
   "cell_type": "code",
   "execution_count": 5,
   "id": "f5ec587c-b2db-4508-8f06-6d7c8003a921",
   "metadata": {},
   "outputs": [
    {
     "name": "stdout",
     "output_type": "stream",
     "text": [
      "                member_name   recommender_name\n",
      "0            Bader Florence    Stibbons Ponder\n",
      "1                Baker Anne    Stibbons Ponder\n",
      "2             Baker Timothy     Farrell Jemima\n",
      "3                Boothe Tim         Rownam Tim\n",
      "4            Butters Gerald       Smith Darren\n",
      "5               Coplin Joan      Baker Timothy\n",
      "6             Crumpet Erica        Smith Tracy\n",
      "7                Dare Nancy    Joplette Janice\n",
      "8             Farrell David     No recommender\n",
      "9            Farrell Jemima     No recommender\n",
      "10              GUEST GUEST     No recommender\n",
      "11          Genting Matthew     Butters Gerald\n",
      "12                Hunt John  Purview Millicent\n",
      "13              Jones David    Joplette Janice\n",
      "14            Jones Douglas        Jones David\n",
      "15          Joplette Janice       Smith Darren\n",
      "16           Mackenzie Anna       Smith Darren\n",
      "17             Owen Charles       Smith Darren\n",
      "18             Pinker David     Farrell Jemima\n",
      "19        Purview Millicent        Smith Tracy\n",
      "20               Rownam Tim     No recommender\n",
      "21         Rumney Henrietta    Genting Matthew\n",
      "22         Sarwin Ramnaresh     Bader Florence\n",
      "23             Smith Darren     No recommender\n",
      "24             Smith Darren     No recommender\n",
      "25               Smith Jack       Smith Darren\n",
      "26              Smith Tracy     No recommender\n",
      "27          Stibbons Ponder       Tracy Burton\n",
      "28             Tracy Burton     No recommender\n",
      "29      Tupperware Hyacinth     No recommender\n",
      "30  Worthington-Smyth Henry        Smith Tracy\n"
     ]
    }
   ],
   "source": [
    "# Query 2 definition and execution \n",
    "query2 = \"\"\" \n",
    "SELECT \n",
    "    CONCAT(m1.surname,' ', m1.firstname) AS member_name,\n",
    "    CASE \n",
    "        WHEN m2.surname != 'GUEST' THEN CONCAT(m2.surname, ' ', m2.firstname)\n",
    "        ELSE 'No recommender'\n",
    "    END AS recommender_name\n",
    "FROM \n",
    "    Members AS m1\n",
    "LEFT JOIN \n",
    "    Members AS m2\n",
    "ON \n",
    "    m1.recommendedby = m2.memid\n",
    "ORDER BY \n",
    "    m1.surname, m1.firstname;\n",
    "    \"\"\"\n",
    "# Execute the query and display results using pandas\n",
    "if conn:  # Ensure the connection exists\n",
    "    df2 = pd.read_sql_query(query2, conn)\n",
    "    print(df2)\n",
    "\n",
    "    \n",
    "else:\n",
    "    print(\"Connection not established.\")"
   ]
  },
  {
   "cell_type": "markdown",
   "id": "8cb6cdc3-5d0f-4c6e-84ff-b76cfaf9f45f",
   "metadata": {},
   "source": [
    "Question 12: Find the facilities with their usage by member, but not guests"
   ]
  },
  {
   "cell_type": "code",
   "execution_count": 6,
   "id": "88d8f591-56e5-452c-80fa-b49717946e1b",
   "metadata": {},
   "outputs": [
    {
     "name": "stdout",
     "output_type": "stream",
     "text": [
      "     facility_name  total_usage_slots\n",
      "0  Badminton Court               1086\n",
      "1   Massage Room 1                884\n",
      "2   Massage Room 2                 54\n",
      "3       Pool Table                856\n",
      "4    Snooker Table                860\n",
      "5     Squash Court                418\n",
      "6     Table Tennis                794\n",
      "7   Tennis Court 1                957\n",
      "8   Tennis Court 2                882\n"
     ]
    }
   ],
   "source": [
    "# Query 3 : Definition and execution\n",
    "query3 = \"\"\"\n",
    "SELECT \n",
    "    f.name AS facility_name,\n",
    "    SUM(b.slots) AS total_usage_slots\n",
    "FROM \n",
    "    Bookings AS b\n",
    "INNER JOIN \n",
    "    Facilities AS f ON b.facid = f.facid\n",
    "INNER JOIN \n",
    "    Members AS m ON b.memid = m.memid\n",
    "WHERE \n",
    "    b.memid != 0  -- Exclude guest bookings\n",
    "GROUP BY \n",
    "    f.name\n",
    "ORDER BY \n",
    "    f.name;\n",
    "    \"\"\"\n",
    "# Execute the query and display results using pandas\n",
    "if conn:  # Ensure the connection exists\n",
    "    df3 = pd.read_sql_query(query3, conn)\n",
    "    print(df3)\n",
    "\n",
    "else:\n",
    "    print(\"Connection not established.\")"
   ]
  },
  {
   "cell_type": "markdown",
   "id": "ec64d8e2-e549-4b54-9876-95cd6e030e82",
   "metadata": {},
   "source": [
    "Question 13: Find the facilities' usage by month, but not guests"
   ]
  },
  {
   "cell_type": "code",
   "execution_count": 9,
   "id": "7bfdd6e2-5b62-4a5a-9c6a-01dce8ef20da",
   "metadata": {},
   "outputs": [
    {
     "name": "stdout",
     "output_type": "stream",
     "text": [
      "      facility_name month_year  total_usage_slots\n",
      "0   Badminton Court    2012-07                165\n",
      "1   Badminton Court    2012-08                414\n",
      "2   Badminton Court    2012-09                507\n",
      "3    Massage Room 1    2012-07                166\n",
      "4    Massage Room 1    2012-08                316\n",
      "5    Massage Room 1    2012-09                402\n",
      "6    Massage Room 2    2012-07                  8\n",
      "7    Massage Room 2    2012-08                 18\n",
      "8    Massage Room 2    2012-09                 28\n",
      "9        Pool Table    2012-07                110\n",
      "10       Pool Table    2012-08                303\n",
      "11       Pool Table    2012-09                443\n",
      "12    Snooker Table    2012-07                140\n",
      "13    Snooker Table    2012-08                316\n",
      "14    Snooker Table    2012-09                404\n",
      "15     Squash Court    2012-07                 50\n",
      "16     Squash Court    2012-08                184\n",
      "17     Squash Court    2012-09                184\n",
      "18     Table Tennis    2012-07                 98\n",
      "19     Table Tennis    2012-08                296\n",
      "20     Table Tennis    2012-09                400\n",
      "21   Tennis Court 1    2012-07                201\n",
      "22   Tennis Court 1    2012-08                339\n",
      "23   Tennis Court 1    2012-09                417\n",
      "24   Tennis Court 2    2012-07                123\n",
      "25   Tennis Court 2    2012-08                345\n",
      "26   Tennis Court 2    2012-09                414\n"
     ]
    }
   ],
   "source": [
    "#Query 4 : definition and execution\n",
    "query4 = \"\"\"\n",
    "SELECT \n",
    "    f.name AS facility_name,\n",
    "    strftime('%Y-%m', b.starttime) AS month_year,\n",
    "    SUM(b.slots) AS total_usage_slots\n",
    "FROM \n",
    "    Bookings AS b\n",
    "INNER JOIN \n",
    "    Facilities AS f ON b.facid = f.facid\n",
    "WHERE \n",
    "    b.memid != 0  -- Exclude guest bookings\n",
    "GROUP BY \n",
    "    f.name,\n",
    "    month_year\n",
    "ORDER BY \n",
    "    f.name,\n",
    "    month_year;\n",
    "    \"\"\"\n",
    "# Execute the query and display results using pandas\n",
    "if conn:  # Ensure the connection exists\n",
    "    df4 = pd.read_sql_query(query4, conn)\n",
    "    print(df4)\n",
    "    # Close the connection after execution\n",
    "    conn.close()\n",
    "else:\n",
    "    print(\"Connection not established.\")"
   ]
  },
  {
   "cell_type": "code",
   "execution_count": null,
   "id": "3c31e78b-d148-480d-b203-ed00ba55d2e0",
   "metadata": {},
   "outputs": [],
   "source": [
    "END."
   ]
  }
 ],
 "metadata": {
  "kernelspec": {
   "display_name": "Python 3 (ipykernel)",
   "language": "python",
   "name": "python3"
  },
  "language_info": {
   "codemirror_mode": {
    "name": "ipython",
    "version": 3
   },
   "file_extension": ".py",
   "mimetype": "text/x-python",
   "name": "python",
   "nbconvert_exporter": "python",
   "pygments_lexer": "ipython3",
   "version": "3.12.4"
  }
 },
 "nbformat": 4,
 "nbformat_minor": 5
}
